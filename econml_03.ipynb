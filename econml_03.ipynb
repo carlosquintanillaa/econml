{
 "cells": [
  {
   "cell_type": "code",
   "execution_count": null,
   "metadata": {
    "id": "AeqOy0YmGYA8"
   },
   "outputs": [],
   "source": [
    "!pip install econml"
   ]
  },
  {
   "cell_type": "markdown",
   "metadata": {
    "id": "C6BOV9WMJYbr"
   },
   "source": [
    "# Tutorial Econml: Meta-learners and Generalized Random Forest"
   ]
  },
  {
   "cell_type": "code",
   "execution_count": null,
   "metadata": {
    "id": "uImxqUuyGaIE"
   },
   "outputs": [],
   "source": [
    "# Load libraries\n",
    "import numpy as np\n",
    "import pandas as pd\n",
    "from sklearn.ensemble import RandomForestRegressor\n",
    "from sklearn.linear_model import LinearRegression, LogisticRegression\n",
    "from econml.metalearners import SLearner, TLearner, XLearner\n",
    "from econml.grf import CausalForest"
   ]
  },
  {
   "cell_type": "code",
   "execution_count": null,
   "metadata": {
    "id": "KqOuPjL6GYA-"
   },
   "outputs": [],
   "source": [
    "# Load the experiment dataset\n",
    "datos = pd.read_csv(\"experimento-rfm.csv\")"
   ]
  },
  {
   "cell_type": "code",
   "execution_count": null,
   "metadata": {
    "id": "f3bn4f1gGYA-"
   },
   "outputs": [],
   "source": [
    "# Role definition\n",
    "y = datos['outcome']\n",
    "T = datos['treat']\n",
    "X = datos.drop(['id','outcome','treat'], axis=1)\n",
    "X = pd.get_dummies(X,drop_first=True)"
   ]
  },
  {
   "cell_type": "code",
   "execution_count": null,
   "metadata": {
    "id": "hDxD1zoHGYA_"
   },
   "outputs": [],
   "source": [
    "# Load the new dataset\n",
    "nuevos = pd.read_csv(\"experimento-rfm-newdata.csv\")"
   ]
  },
  {
   "cell_type": "code",
   "execution_count": null,
   "metadata": {
    "id": "4Be3n1PiGYBA"
   },
   "outputs": [],
   "source": [
    "# Role definition\n",
    "nuevos_potential_outcomes = nuevos.drop(['recency','frequency','monetary','channel'],axis=1)\n",
    "X2 = nuevos.drop(['id','Y0','Y1'],axis=1)\n",
    "X2= pd.get_dummies(X2,drop_first=True)"
   ]
  },
  {
   "cell_type": "code",
   "execution_count": null,
   "metadata": {
    "id": "dXBOAtzWGYBA"
   },
   "outputs": [],
   "source": [
    "# Model 01: SLearner, Base Algorithm = Linear Regression\n",
    "est1 = SLearner(overall_model=LinearRegression())\n",
    "est1.fit(y, T, X=X)\n",
    "efecto1=est1.effect(X2)"
   ]
  },
  {
   "cell_type": "code",
   "execution_count": null,
   "metadata": {
    "id": "1oDcZDGKGYBA"
   },
   "outputs": [],
   "source": [
    "# Model 02: TLearner, Base Algorithm = Linear Regression\n",
    "est2 = TLearner(models=LinearRegression())\n",
    "est2.fit(y, T, X=X)\n",
    "efecto2=est2.effect(X2)"
   ]
  },
  {
   "cell_type": "code",
   "execution_count": null,
   "metadata": {
    "id": "3P1RoVcLGYBB"
   },
   "outputs": [],
   "source": [
    "# Model 03: XLearner, Base Algorithm = Linear Regression\n",
    "est3 = XLearner(models=LinearRegression())\n",
    "est3.fit(y,T,X=X)\n",
    "efecto3=est3.effect(X2)"
   ]
  },
  {
   "cell_type": "code",
   "execution_count": null,
   "metadata": {
    "id": "C-AT4jbnGYBC"
   },
   "outputs": [],
   "source": [
    "# Model 04: SLearner, Base Algorithm = Random Forest\n",
    "est4 = SLearner(overall_model=RandomForestRegressor(n_estimators=500))\n",
    "est4.fit(y, T, X=X)\n",
    "efecto4=est4.effect(X2)"
   ]
  },
  {
   "cell_type": "code",
   "execution_count": null,
   "metadata": {
    "id": "MeNBHrHMGYBC"
   },
   "outputs": [],
   "source": [
    "# Model 05: TLearner, Base Algorithm = Random Forest\n",
    "est5 = TLearner(models=RandomForestRegressor(n_estimators=500))\n",
    "est5.fit(y, T, X=X)\n",
    "efecto5=est5.effect(X2)"
   ]
  },
  {
   "cell_type": "code",
   "execution_count": null,
   "metadata": {
    "id": "LoeHJLCQGYBD"
   },
   "outputs": [],
   "source": [
    "# Model 06: XLearner, Base Algorithm = Random Forest\n",
    "est6 = XLearner(models=RandomForestRegressor(n_estimators=500))\n",
    "est6.fit(y, T, X=X)\n",
    "efecto6=est6.effect(X2)"
   ]
  },
  {
   "cell_type": "code",
   "execution_count": null,
   "metadata": {
    "id": "r_3UBzggGYBE"
   },
   "outputs": [],
   "source": [
    "# Model 07 : Generalized Random Forest\n",
    "est7 = CausalForest(random_state=1234)\n",
    "est7.fit(X, T, y)  # Notice that variable order changed\n",
    "efecto7 = est7.predict(X2).ravel()   # Notice change from 'effect' to 'predict'"
   ]
  },
  {
   "cell_type": "code",
   "execution_count": null,
   "metadata": {
    "id": "4Jq9TdeLGYBE"
   },
   "outputs": [],
   "source": [
    "# Create dataframe with all 7 estimates of CATE\n",
    "efectos = pd.DataFrame({\n",
    "        'efecto1': efecto1,\n",
    "        'efecto2': efecto2,\n",
    "        'efecto3': efecto3,\n",
    "        'efecto4': efecto4,\n",
    "        'efecto5': efecto5,\n",
    "        'efecto6': efecto6,\n",
    "        'efecto7': efecto7\n",
    "    })"
   ]
  },
  {
   "cell_type": "code",
   "execution_count": null,
   "metadata": {
    "colab": {
     "base_uri": "https://localhost:8080/",
     "height": 444
    },
    "id": "eM6vqE_tMvYO",
    "outputId": "e22a2aa8-bdae-4444-eae5-f64080dd6652"
   },
   "outputs": [],
   "source": [
    "# Correlation matrix\n",
    "correlation_matrix = efectos.corr()\n",
    "correlation_matrix"
   ]
  },
  {
   "cell_type": "code",
   "execution_count": null,
   "metadata": {
    "id": "OSiaWT2JGYBE"
   },
   "outputs": [],
   "source": [
    "# Decisions: Assign to treatment all the observations with a predicted CATE > 0\n",
    "df_binary = pd.DataFrame({\n",
    "        'dec1': (efecto1 > 0).astype(int),\n",
    "        'dec2': (efecto2 > 0).astype(int),\n",
    "        'dec3': (efecto3 > 0).astype(int),\n",
    "        'dec4': (efecto4 > 0).astype(int),\n",
    "        'dec5': (efecto5 > 0).astype(int),\n",
    "        'dec6': (efecto6 > 0).astype(int),\n",
    "        'dec7': (efecto7 > 0).astype(int)\n",
    "    })"
   ]
  },
  {
   "cell_type": "code",
   "execution_count": null,
   "metadata": {
    "colab": {
     "base_uri": "https://localhost:8080/",
     "height": 444
    },
    "id": "leaY2Tt_NGSD",
    "outputId": "ed9346e0-80f8-4b4c-dbfa-90edbbc96304"
   },
   "outputs": [],
   "source": [
    "df_binary"
   ]
  },
  {
   "cell_type": "code",
   "execution_count": null,
   "metadata": {
    "id": "WpQUHTl8GYBE"
   },
   "outputs": [],
   "source": [
    "# Score decisions: If decision = 0 then Y0, if decision = 1 then Y1\n",
    "df_results = pd.DataFrame()\n",
    "for col in df_binary.columns:\n",
    "        df_results[f'{col}_outcome'] = np.where(\n",
    "            df_binary[col] == 1,\n",
    "            nuevos_potential_outcomes['Y1'],\n",
    "            nuevos_potential_outcomes['Y0']\n",
    "        )"
   ]
  },
  {
   "cell_type": "code",
   "execution_count": null,
   "metadata": {
    "colab": {
     "base_uri": "https://localhost:8080/",
     "height": 444
    },
    "id": "2j7oCBiFNYCw",
    "outputId": "6fef8a3d-190c-4e04-8d45-4fd04369f501"
   },
   "outputs": [],
   "source": [
    "df_results"
   ]
  },
  {
   "cell_type": "code",
   "execution_count": null,
   "metadata": {
    "colab": {
     "base_uri": "https://localhost:8080/"
    },
    "id": "8bAbgkHUGYBE",
    "outputId": "88f52862-ba7b-4a53-9075-29babf274486"
   },
   "outputs": [],
   "source": [
    "# Report results\n",
    "print('Linear Regresion, S-Learner',df_results['dec1_outcome'].mean())\n",
    "print('Linear Regresion, T-Learner',df_results['dec2_outcome'].mean())\n",
    "print('Linear Regresion, X-Learner',df_results['dec3_outcome'].mean())\n",
    "print('Random Forest, S-Learner',df_results['dec4_outcome'].mean())\n",
    "print('Random Forest, T-Learner',df_results['dec5_outcome'].mean())\n",
    "print('Random Forest, X-Learner',df_results['dec6_outcome'].mean())\n",
    "print('Generalized Random Forest',df_results['dec7_outcome'].mean())"
   ]
  }
 ],
 "metadata": {
  "colab": {
   "provenance": []
  },
  "kernelspec": {
   "display_name": "econml",
   "language": "python",
   "name": "econml"
  },
  "language_info": {
   "codemirror_mode": {
    "name": "ipython",
    "version": 3
   },
   "file_extension": ".py",
   "mimetype": "text/x-python",
   "name": "python",
   "nbconvert_exporter": "python",
   "pygments_lexer": "ipython3",
   "version": "3.9.17"
  }
 },
 "nbformat": 4,
 "nbformat_minor": 0
}
