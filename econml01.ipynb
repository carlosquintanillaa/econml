{
 "cells": [
  {
   "cell_type": "code",
   "execution_count": null,
   "metadata": {
    "id": "9UPHWOxblS76"
   },
   "outputs": [],
   "source": [
    "!pip install econml"
   ]
  },
  {
   "cell_type": "code",
   "execution_count": null,
   "metadata": {
    "id": "vXQbamrilfvX"
   },
   "outputs": [],
   "source": [
    "# Load needed libraries\n",
    "import pandas as pd\n",
    "from sklearn.linear_model import LinearRegression, LogisticRegression\n",
    "from sklearn.dummy import DummyClassifier\n",
    "from econml.dml import LinearDML"
   ]
  },
  {
   "cell_type": "markdown",
   "metadata": {},
   "source": [
    "## Observational Study"
   ]
  },
  {
   "cell_type": "code",
   "execution_count": null,
   "metadata": {
    "id": "vd5wNXd5mAdW"
   },
   "outputs": [],
   "source": [
    "# Load historical dataset\n",
    "datos1 = pd.read_csv('datos-historicos-b.csv')\n",
    "datos1"
   ]
  },
  {
   "cell_type": "code",
   "execution_count": null,
   "metadata": {
    "id": "0tmjaIt7mK5L"
   },
   "outputs": [],
   "source": [
    "# Role definition\n",
    "y1 = datos1['donation']\n",
    "T1 = datos1['treatment']\n",
    "X1 = datos1.drop(['donation', 'treatment','id'], axis=1)\n",
    "X1 = pd.get_dummies(X1,drop_first=True)\n",
    "X1"
   ]
  },
  {
   "cell_type": "code",
   "execution_count": null,
   "metadata": {
    "id": "9wMcJNYPmj-i"
   },
   "outputs": [],
   "source": [
    "# Initialize models\n",
    "model_y1 = LinearRegression()\n",
    "model_t1 = LogisticRegression(max_iter=2000)"
   ]
  },
  {
   "cell_type": "code",
   "execution_count": null,
   "metadata": {
    "id": "-3d5Y8eznOnc"
   },
   "outputs": [],
   "source": [
    "# Estimate ATE\n",
    "est1 = LinearDML(model_y=model_y1,model_t=model_t1,discrete_treatment=True)\n",
    "est1.fit(y1,T1,X=X1)"
   ]
  },
  {
   "cell_type": "code",
   "execution_count": null,
   "metadata": {
    "id": "kv3JCwtUsUUb"
   },
   "outputs": [],
   "source": [
    "# Print results\n",
    "est1.ate(X1)"
   ]
  },
  {
   "cell_type": "code",
   "execution_count": null,
   "metadata": {
    "id": "Cs_aVQzKsjYl"
   },
   "outputs": [],
   "source": [
    "# Confidence Interval\n",
    "est1.ate_interval(X1)"
   ]
  },
  {
   "cell_type": "markdown",
   "metadata": {},
   "source": [
    "## Experimento"
   ]
  },
  {
   "cell_type": "code",
   "execution_count": null,
   "metadata": {
    "id": "wSnooydps6oB"
   },
   "outputs": [],
   "source": [
    "# Load experiment dataset\n",
    "datos2 = pd.read_csv('datos-experimento-b.csv')\n",
    "datos2"
   ]
  },
  {
   "cell_type": "code",
   "execution_count": null,
   "metadata": {
    "id": "ZuhC82N0s9z-"
   },
   "outputs": [],
   "source": [
    "# Role definition \n",
    "y2 = datos2['donation']\n",
    "T2 = datos2['treatment']\n",
    "X2 = datos2.drop(['donation', 'treatment','id'], axis=1)\n",
    "X2 = pd.get_dummies(X2,drop_first=True)\n",
    "X2"
   ]
  },
  {
   "cell_type": "code",
   "execution_count": null,
   "metadata": {
    "id": "FwcJaBORtOwn"
   },
   "outputs": [],
   "source": [
    "# Initialize models\n",
    "model_y2 = LinearRegression()\n",
    "model_t2 = DummyClassifier(strategy='prior')"
   ]
  },
  {
   "cell_type": "code",
   "execution_count": null,
   "metadata": {
    "id": "6Wl4PhHGtU3m"
   },
   "outputs": [],
   "source": [
    "# Estimate ATE\n",
    "est2 = LinearDML(model_y=model_y2,model_t=model_t2,discrete_treatment=True)\n",
    "est2.fit(y2,T2,X=X2)"
   ]
  },
  {
   "cell_type": "code",
   "execution_count": null,
   "metadata": {
    "id": "yQOBpWoattVO"
   },
   "outputs": [],
   "source": [
    "# Report results\n",
    "est2.ate(X2)"
   ]
  },
  {
   "cell_type": "code",
   "execution_count": null,
   "metadata": {
    "id": "DQVIb1WltwsH"
   },
   "outputs": [],
   "source": [
    "# Confidence Interval\n",
    "est2.ate_interval(X2)"
   ]
  }
 ],
 "metadata": {
  "colab": {
   "provenance": []
  },
  "kernelspec": {
   "display_name": "Python 3",
   "name": "python3"
  },
  "language_info": {
   "name": "python"
  }
 },
 "nbformat": 4,
 "nbformat_minor": 0
}
