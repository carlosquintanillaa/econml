{
  "cells": [
    {
      "cell_type": "code",
      "execution_count": null,
      "metadata": {
        "id": "AeqOy0YmGYA8"
      },
      "outputs": [],
      "source": [
        "!pip install econml"
      ]
    },
    {
      "cell_type": "markdown",
      "source": [
        "# Tutorial Econml: Generalized Random Forest"
      ],
      "metadata": {
        "id": "C6BOV9WMJYbr"
      }
    },
    {
      "cell_type": "code",
      "source": [
        "# Load libraries\n",
        "import pandas as pd\n",
        "from econml.grf import CausalForest\n",
        "import matplotlib.pyplot as plt"
      ],
      "metadata": {
        "id": "uImxqUuyGaIE"
      },
      "execution_count": null,
      "outputs": []
    },
    {
      "cell_type": "code",
      "execution_count": null,
      "metadata": {
        "id": "KqOuPjL6GYA-"
      },
      "outputs": [],
      "source": [
        "# Load the experiment dataset\n",
        "datos = pd.read_csv(\"experimento-rfm.csv\")\n",
        "datos"
      ]
    },
    {
      "cell_type": "code",
      "execution_count": null,
      "metadata": {
        "id": "f3bn4f1gGYA-"
      },
      "outputs": [],
      "source": [
        "# Role definition\n",
        "y = datos['outcome']\n",
        "T = datos['treat']\n",
        "X = datos.drop(['id','outcome','treat'], axis=1)\n",
        "X = pd.get_dummies(X,drop_first=True)\n"
      ]
    },
    {
      "cell_type": "code",
      "execution_count": null,
      "metadata": {
        "id": "hDxD1zoHGYA_"
      },
      "outputs": [],
      "source": [
        "# Load the new dataset\n",
        "nuevos = pd.read_csv(\"experimento-rfm-newdata.csv\")"
      ]
    },
    {
      "cell_type": "code",
      "execution_count": null,
      "metadata": {
        "id": "4Be3n1PiGYBA"
      },
      "outputs": [],
      "source": [
        "# Role definition new dataset\n",
        "X2 = nuevos.drop(['id','Y0','Y1'],axis=1)\n",
        "X2= pd.get_dummies(X2,drop_first=True)"
      ]
    },
    {
      "cell_type": "code",
      "execution_count": null,
      "metadata": {
        "id": "r_3UBzggGYBE"
      },
      "outputs": [],
      "source": [
        "# Model: Generalized Random Forest\n",
        "est = CausalForest(random_state=1234)\n",
        "est.fit(X, T, y)\n",
        "efecto = est.predict(X2).ravel()\n",
        "# Map feature importances to feature names\n",
        "feature_names = X2.columns.tolist()  # Get the names of the variables from the X matrix\n",
        "feature_importances = est.feature_importances_ # Get feature importances from output\n",
        "\n"
      ]
    },
    {
      "cell_type": "code",
      "source": [
        "# Map feature importances to feature names\n",
        "feature_names = X2.columns.tolist()  # Get the names of the variables from the X matrix\n",
        "feature_importances = est.feature_importances_ # Get feature importances from output\n",
        "\n",
        "# Convert to a DataFrame\n",
        "feature_importance_df = pd.DataFrame({\n",
        "    'Feature': feature_names,\n",
        "    'Importance': feature_importances\n",
        "})\n",
        "\n",
        "feature_importance_df"
      ],
      "metadata": {
        "id": "LMMTtrwtJo4_"
      },
      "execution_count": null,
      "outputs": []
    },
    {
      "cell_type": "code",
      "source": [
        "# Sort and plot\n",
        "feature_importance_df = feature_importance_df.sort_values('Importance', ascending=True)\n",
        "\n",
        "plt.figure(figsize=(10, 6))\n",
        "plt.barh(feature_importance_df['Feature'], feature_importance_df['Importance'])\n",
        "plt.title('Feature Importances')\n",
        "plt.xlabel('Importance')\n",
        "plt.tight_layout()\n",
        "plt.show()\n"
      ],
      "metadata": {
        "id": "2NCv19FAA6fZ"
      },
      "execution_count": null,
      "outputs": []
    },
    {
      "cell_type": "code",
      "source": [
        "# Create dataframe with id and estimate of CATE, then export them to a csv file\n",
        "pronosticos = pd.DataFrame({'id': nuevos['id'],'tau': efecto})\n",
        "pronosticos.to_csv('pronosticos.csv',index=False)\n",
        "pronosticos"
      ],
      "metadata": {
        "id": "61s-34Bsfelh"
      },
      "execution_count": null,
      "outputs": []
    },
    {
      "cell_type": "code",
      "source": [],
      "metadata": {
        "id": "U26o_U-4fytx"
      },
      "execution_count": null,
      "outputs": []
    }
  ],
  "metadata": {
    "kernelspec": {
      "display_name": "econml",
      "language": "python",
      "name": "econml"
    },
    "language_info": {
      "codemirror_mode": {
        "name": "ipython",
        "version": 3
      },
      "file_extension": ".py",
      "mimetype": "text/x-python",
      "name": "python",
      "nbconvert_exporter": "python",
      "pygments_lexer": "ipython3",
      "version": "3.9.17"
    },
    "colab": {
      "provenance": []
    }
  },
  "nbformat": 4,
  "nbformat_minor": 0
}