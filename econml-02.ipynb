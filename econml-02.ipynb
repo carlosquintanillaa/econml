{
  "cells": [
    {
      "cell_type": "code",
      "source": [
        "!pip install econml"
      ],
      "metadata": {
        "id": "KXjjViYTP8YN"
      },
      "execution_count": null,
      "outputs": []
    },
    {
      "cell_type": "code",
      "execution_count": null,
      "metadata": {
        "id": "bhrErOiKP11G"
      },
      "outputs": [],
      "source": [
        "# Load libraries\n",
        "import pandas as pd\n",
        "import numpy as np\n",
        "import matplotlib.pyplot as plt\n",
        "import seaborn as sns\n",
        "from sklearn.linear_model import LinearRegression, LogisticRegression\n",
        "from sklearn.dummy import DummyClassifier\n",
        "from econml.dml import LinearDML"
      ]
    },
    {
      "cell_type": "code",
      "execution_count": null,
      "metadata": {
        "id": "Gf7mexmnP11J"
      },
      "outputs": [],
      "source": [
        "# Load dataset\n",
        "datos1 = pd.read_csv('SimulationHetogeneity-01.csv')\n",
        "datos1"
      ]
    },
    {
      "cell_type": "code",
      "execution_count": null,
      "metadata": {
        "id": "v1JsWWRoP11J"
      },
      "outputs": [],
      "source": [
        "# Define roles\n",
        "y1 = datos1['Y']\n",
        "T1 = datos1['T']\n",
        "X1 = datos1.drop(['id','Y','T'], axis=1)"
      ]
    },
    {
      "cell_type": "code",
      "execution_count": null,
      "metadata": {
        "id": "pirvNpEdP11K"
      },
      "outputs": [],
      "source": [
        "# Initialize models\n",
        "model_y1 = LinearRegression()\n",
        "model_t1 = DummyClassifier(strategy='prior')"
      ]
    },
    {
      "cell_type": "code",
      "execution_count": null,
      "metadata": {
        "id": "S7PBoK8nP11K"
      },
      "outputs": [],
      "source": [
        "# Estimate ATE\n",
        "est1 = LinearDML(model_y=model_y1,model_t=model_t1,discrete_treatment=True,random_state=12345)\n",
        "est1=est1.fit(y1,T1,X=X1)"
      ]
    },
    {
      "cell_type": "code",
      "execution_count": null,
      "metadata": {
        "id": "0Ui5TqRKP11L"
      },
      "outputs": [],
      "source": [
        "# Print results\n",
        "print(\"ATE:\",est1.ate(X=X1))\n",
        "print(\"95% Confidence Interval ATE:\",est1.ate_interval(X1))\n",
        "est1.summary()"
      ]
    },
    {
      "cell_type": "code",
      "execution_count": null,
      "metadata": {
        "id": "A5jOa7QKP11L"
      },
      "outputs": [],
      "source": [
        "# Predict tau in dataset datos1\n",
        "effect1=est1.effect(X1)\n",
        "effect1"
      ]
    },
    {
      "cell_type": "code",
      "execution_count": null,
      "metadata": {
        "id": "UblxXe49P11L"
      },
      "outputs": [],
      "source": [
        "# Histogram of Effect1\n",
        "plt.figure(figsize=(10, 6))\n",
        "sns.histplot(data=effect1, bins=30)\n",
        "plt.title('Histogram')\n",
        "plt.show()"
      ]
    },
    {
      "cell_type": "code",
      "execution_count": null,
      "metadata": {
        "id": "s21Ugf3vP11M"
      },
      "outputs": [],
      "source": [
        "# Read new dataset\n",
        "datos2 = pd.read_csv('SimulationHetogeneity-02.csv')\n",
        "datos2"
      ]
    },
    {
      "cell_type": "code",
      "execution_count": null,
      "metadata": {
        "id": "RcdCF6ZsP11M"
      },
      "outputs": [],
      "source": [
        "# Roles\n",
        "X2 = datos2.drop(['id','Y0','Y1'], axis=1)\n",
        "X2"
      ]
    },
    {
      "cell_type": "code",
      "execution_count": null,
      "metadata": {
        "id": "llr9gb3aP11N"
      },
      "outputs": [],
      "source": [
        "# Predict tau in new dataset\n",
        "effect2=est1.effect(X2)\n",
        "effect2"
      ]
    },
    {
      "cell_type": "code",
      "execution_count": null,
      "metadata": {
        "id": "xCorgviAP11N"
      },
      "outputs": [],
      "source": [
        "# Histogram of Effect2\n",
        "plt.figure(figsize=(10, 6))\n",
        "sns.histplot(data=effect2, bins=30)\n",
        "plt.title('Histogram')\n",
        "plt.show()"
      ]
    },
    {
      "cell_type": "code",
      "execution_count": null,
      "metadata": {
        "id": "KZ2jMS4mP11N"
      },
      "outputs": [],
      "source": [
        "# Select observations with positive tau\n",
        "select2 = (effect2 > 0).astype(int)\n",
        "selection2 = select2 * datos2['Y1'] + (1 - select2) * datos2['Y0']\n"
      ]
    },
    {
      "cell_type": "code",
      "source": [
        "# Calculate sum of outcomes under this selection\n",
        "selection_sum = selection2.sum()\n",
        "print(\"Sum of outcomes under selection:\", selection_sum)\n",
        "\n",
        "# Compare to applying treatment to everyone and no one\n",
        "sum_Y1 = datos2['Y1'].sum()\n",
        "sum_Y0 = datos2['Y0'].sum()\n",
        "print(\"Sum if treated everyone:\", sum_Y1)\n",
        "print(\"Sum if treated no one:\", sum_Y0)\n"
      ],
      "metadata": {
        "id": "zBaNG4s7SXt2"
      },
      "execution_count": null,
      "outputs": []
    },
    {
      "cell_type": "code",
      "source": [
        "# Optimal selection based on the best potential outcome for each observation (crystal-ball solution)\n",
        "optimal_selection_sum = datos2[['Y0', 'Y1']].max(axis=1).sum()\n",
        "print(\"Sum of optimal selection:\", optimal_selection_sum)"
      ],
      "metadata": {
        "id": "xbej63HASjhR"
      },
      "execution_count": null,
      "outputs": []
    }
  ],
  "metadata": {
    "kernelspec": {
      "display_name": "econml",
      "language": "python",
      "name": "econml"
    },
    "language_info": {
      "codemirror_mode": {
        "name": "ipython",
        "version": 3
      },
      "file_extension": ".py",
      "mimetype": "text/x-python",
      "name": "python",
      "nbconvert_exporter": "python",
      "pygments_lexer": "ipython3",
      "version": "3.9.17"
    },
    "colab": {
      "provenance": []
    }
  },
  "nbformat": 4,
  "nbformat_minor": 0
}